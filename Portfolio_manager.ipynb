{
  "nbformat": 4,
  "nbformat_minor": 0,
  "metadata": {
    "colab": {
      "name": "Portfolio_manager.ipynb",
      "provenance": [],
      "toc_visible": true,
      "authorship_tag": "ABX9TyMm9fKilfusgEuQeox+BYzq",
      "include_colab_link": true
    },
    "kernelspec": {
      "display_name": "Python 3",
      "name": "python3"
    }
  },
  "cells": [
    {
      "cell_type": "markdown",
      "metadata": {
        "id": "view-in-github",
        "colab_type": "text"
      },
      "source": [
        "<a href=\"https://colab.research.google.com/github/JoshDumo/PortolioManager/blob/main/Portfolio_manager.ipynb\" target=\"_parent\"><img src=\"https://colab.research.google.com/assets/colab-badge.svg\" alt=\"Open In Colab\"/></a>"
      ]
    },
    {
      "cell_type": "markdown",
      "metadata": {
        "id": "i_o5UlqA8BjT"
      },
      "source": [
        "# Portfolio management\n",
        "In this project we investigate portfolio management using python."
      ]
    },
    {
      "cell_type": "code",
      "metadata": {
        "id": "eRMuhrUJ7_cV"
      },
      "source": [
        "import pandas as pd\n",
        "import numpy as np\n",
        "import matplotlib.pyplot as plt\n"
      ],
      "execution_count": null,
      "outputs": []
    },
    {
      "cell_type": "markdown",
      "metadata": {
        "id": "0-YBBrfd0gHO"
      },
      "source": [
        "## Getting data\n"
      ]
    },
    {
      "cell_type": "code",
      "metadata": {
        "id": "-fDdh8119ODl"
      },
      "source": [
        "ticker_df = pd.read_csv(\"nyse.csv\")"
      ],
      "execution_count": null,
      "outputs": []
    },
    {
      "cell_type": "code",
      "metadata": {
        "colab": {
          "base_uri": "https://localhost:8080/",
          "height": 574
        },
        "id": "BZu75IV1C94e",
        "outputId": "83c22000-ed26-4c40-b579-c6cf1ba17b06"
      },
      "source": [
        "ticker_df.head()"
      ],
      "execution_count": null,
      "outputs": [
        {
          "output_type": "execute_result",
          "data": {
            "text/html": [
              "<div>\n",
              "<style scoped>\n",
              "    .dataframe tbody tr th:only-of-type {\n",
              "        vertical-align: middle;\n",
              "    }\n",
              "\n",
              "    .dataframe tbody tr th {\n",
              "        vertical-align: top;\n",
              "    }\n",
              "\n",
              "    .dataframe thead th {\n",
              "        text-align: right;\n",
              "    }\n",
              "</style>\n",
              "<table border=\"1\" class=\"dataframe\">\n",
              "  <thead>\n",
              "    <tr style=\"text-align: right;\">\n",
              "      <th></th>\n",
              "      <th>Symbol</th>\n",
              "      <th>Name</th>\n",
              "      <th>Last Sale</th>\n",
              "      <th>Net Change</th>\n",
              "      <th>% Change</th>\n",
              "      <th>Market Cap</th>\n",
              "      <th>Country</th>\n",
              "      <th>IPO Year</th>\n",
              "      <th>Volume</th>\n",
              "      <th>Sector</th>\n",
              "      <th>Industry</th>\n",
              "    </tr>\n",
              "  </thead>\n",
              "  <tbody>\n",
              "    <tr>\n",
              "      <th>0</th>\n",
              "      <td>A</td>\n",
              "      <td>Agilent Technologies Inc. Common Stock</td>\n",
              "      <td>$128.635</td>\n",
              "      <td>-1.4850</td>\n",
              "      <td>-1.141%</td>\n",
              "      <td>3.928376e+10</td>\n",
              "      <td>United States</td>\n",
              "      <td>1999.0</td>\n",
              "      <td>1050123</td>\n",
              "      <td>Capital Goods</td>\n",
              "      <td>Biotechnology: Laboratory Analytical Instruments</td>\n",
              "    </tr>\n",
              "    <tr>\n",
              "      <th>1</th>\n",
              "      <td>AA</td>\n",
              "      <td>Alcoa Corporation Common Stock</td>\n",
              "      <td>$21.31</td>\n",
              "      <td>-0.6200</td>\n",
              "      <td>-2.827%</td>\n",
              "      <td>3.963193e+09</td>\n",
              "      <td>NaN</td>\n",
              "      <td>2016.0</td>\n",
              "      <td>2559525</td>\n",
              "      <td>Basic Industries</td>\n",
              "      <td>Aluminum</td>\n",
              "    </tr>\n",
              "    <tr>\n",
              "      <th>2</th>\n",
              "      <td>AAIC</td>\n",
              "      <td>Arlington Asset Investment Corp Class A (new)</td>\n",
              "      <td>$3.9205</td>\n",
              "      <td>-0.0695</td>\n",
              "      <td>-1.742%</td>\n",
              "      <td>1.310532e+08</td>\n",
              "      <td>United States</td>\n",
              "      <td>NaN</td>\n",
              "      <td>161093</td>\n",
              "      <td>Consumer Services</td>\n",
              "      <td>Real Estate Investment Trusts</td>\n",
              "    </tr>\n",
              "    <tr>\n",
              "      <th>3</th>\n",
              "      <td>AAIC^B</td>\n",
              "      <td>Arlington Asset Investment Corp 7.00%</td>\n",
              "      <td>$22.64</td>\n",
              "      <td>-0.0400</td>\n",
              "      <td>-0.176%</td>\n",
              "      <td>NaN</td>\n",
              "      <td>United States</td>\n",
              "      <td>NaN</td>\n",
              "      <td>458</td>\n",
              "      <td>NaN</td>\n",
              "      <td>NaN</td>\n",
              "    </tr>\n",
              "    <tr>\n",
              "      <th>4</th>\n",
              "      <td>AAIC^C</td>\n",
              "      <td>Arlington Asset Investment Corp 8.250% Seies C...</td>\n",
              "      <td>$22.50</td>\n",
              "      <td>-0.0850</td>\n",
              "      <td>-0.376%</td>\n",
              "      <td>NaN</td>\n",
              "      <td>United States</td>\n",
              "      <td>NaN</td>\n",
              "      <td>4499</td>\n",
              "      <td>NaN</td>\n",
              "      <td>NaN</td>\n",
              "    </tr>\n",
              "  </tbody>\n",
              "</table>\n",
              "</div>"
            ],
            "text/plain": [
              "   Symbol  ...                                          Industry\n",
              "0       A  ...  Biotechnology: Laboratory Analytical Instruments\n",
              "1      AA  ...                                          Aluminum\n",
              "2    AAIC  ...                     Real Estate Investment Trusts\n",
              "3  AAIC^B  ...                                               NaN\n",
              "4  AAIC^C  ...                                               NaN\n",
              "\n",
              "[5 rows x 11 columns]"
            ]
          },
          "metadata": {
            "tags": []
          },
          "execution_count": 3
        }
      ]
    },
    {
      "cell_type": "code",
      "metadata": {
        "id": "6dDXIkTHB2Uu"
      },
      "source": [
        "is_US = ticker_df['Country'] == 'United States'\n",
        "is_highVol = ticker_df['Volume'] > 2000000\n",
        "is_highMCap = ticker_df['Market Cap'] > 1e+8\n",
        "ticker_UShighVol = ticker_df[is_US & is_highVol & is_highMCap]\n",
        "ticker_UShighVol_list = ticker_UShighVol['Symbol'].values.tolist()"
      ],
      "execution_count": null,
      "outputs": []
    },
    {
      "cell_type": "code",
      "metadata": {
        "colab": {
          "base_uri": "https://localhost:8080/"
        },
        "id": "3Pn48p-TCqme",
        "outputId": "535d5605-aae7-4a7f-a040-e32f3b1db11a"
      },
      "source": [
        "len(ticker_UShighVol_list)"
      ],
      "execution_count": null,
      "outputs": [
        {
          "output_type": "execute_result",
          "data": {
            "text/plain": [
              "203"
            ]
          },
          "metadata": {
            "tags": []
          },
          "execution_count": 183
        }
      ]
    },
    {
      "cell_type": "code",
      "metadata": {
        "colab": {
          "base_uri": "https://localhost:8080/"
        },
        "id": "XAYXHigdZPOh",
        "outputId": "4ecdb3c5-954c-492f-83f8-042378940c72"
      },
      "source": [
        "!pip install yahoofinancials"
      ],
      "execution_count": null,
      "outputs": [
        {
          "output_type": "stream",
          "text": [
            "Collecting yahoofinancials\n",
            "  Downloading https://files.pythonhosted.org/packages/97/fe/be0f6ea704137848779fc61e7d1c9a901489aaf3423cd7b6f86a350c14c6/yahoofinancials-1.6.tar.gz\n",
            "Requirement already satisfied: beautifulsoup4 in /usr/local/lib/python3.6/dist-packages (from yahoofinancials) (4.6.3)\n",
            "Requirement already satisfied: pytz in /usr/local/lib/python3.6/dist-packages (from yahoofinancials) (2018.9)\n",
            "Building wheels for collected packages: yahoofinancials\n",
            "  Building wheel for yahoofinancials (setup.py) ... \u001b[?25l\u001b[?25hdone\n",
            "  Created wheel for yahoofinancials: filename=yahoofinancials-1.6-cp36-none-any.whl size=15192 sha256=a5005004bd043f60fee450717a6403427871d7b99c5700d22d8f4eb18aa68040\n",
            "  Stored in directory: /root/.cache/pip/wheels/d9/7e/cf/4977a8572d5247242a4b13018d1d36923024ba84236e0d28bc\n",
            "Successfully built yahoofinancials\n",
            "Installing collected packages: yahoofinancials\n",
            "Successfully installed yahoofinancials-1.6\n"
          ],
          "name": "stdout"
        }
      ]
    },
    {
      "cell_type": "code",
      "metadata": {
        "id": "8FzLONaWZj7o"
      },
      "source": [
        "from yahoofinancials import YahooFinancials\n",
        "tech_stocks = ['AAPL', 'MSFT', 'INTC']\n",
        "highVol_stocks = ticker_UShighVol_list\n",
        "yahoo_financials_tech = YahooFinancials(tech_stocks)\n",
        "#tech_stock_price_data = yahoo_financials_tech.get_stock_price_data()\n",
        "daily_tech_stock_prices = yahoo_financials_tech.get_historical_price_data('2017-09-15', '2018-09-15', 'daily')\n",
        "\n"
      ],
      "execution_count": null,
      "outputs": []
    },
    {
      "cell_type": "code",
      "metadata": {
        "id": "n13MCt9B61OM"
      },
      "source": [
        "highVol_stocks = ticker_UShighVol_list\n",
        "yahoo_financials_highVol = YahooFinancials(highVol_stocks)\n",
        "daily_highVol_stock_prices = yahoo_financials_highVol.get_historical_price_data('2013-01-02', '2020-12-15', 'daily')"
      ],
      "execution_count": null,
      "outputs": []
    },
    {
      "cell_type": "code",
      "metadata": {
        "colab": {
          "base_uri": "https://localhost:8080/"
        },
        "id": "NzH5Se7LFTFs",
        "outputId": "2ecd3242-bfae-4845-8f15-66fa3977f356"
      },
      "source": [
        "daily_highVol_stock_prices.keys()"
      ],
      "execution_count": null,
      "outputs": [
        {
          "output_type": "execute_result",
          "data": {
            "text/plain": [
              "dict_keys(['ABBV', 'ABT', 'ACIC', 'ADT', 'AES', 'AFL', 'AHT', 'AIG', 'AIV', 'ALB', 'AM', 'ATUS', 'AXTA', 'BA', 'BAC', 'BFT', 'BK', 'BMY', 'BSX', 'C', 'CAG', 'CCIV', 'CCL', 'CCO', 'CDE', 'CF', 'CFG', 'CHS', 'CLF', 'CLNY', 'CNC', 'CNP', 'CNX', 'COG', 'COP', 'COTY', 'CPE', 'CRK', 'CRM', 'CVS', 'CVX', 'CXW', 'CYH', 'D', 'DAL', 'DDD', 'DHF', 'DIS', 'DUK', 'DVN', 'ED', 'ELAN', 'EPD', 'EQT', 'ET', 'EXPR', 'F', 'FCX', 'FE', 'FHN', 'FINV', 'FLR', 'FNB', 'FRX', 'GE', 'GEN           ', 'GEO', 'GIS', 'GLW', 'GM', 'GME', 'GNW', 'GPK', 'GPS', 'GSAH', 'GTT', 'HAL', 'HBI', 'HD', 'HL', 'HPE', 'HPQ', 'HTA', 'HUYA', 'IBM', 'IFF', 'IGT', 'INVH', 'IPG', 'IPOE', 'IPOF', 'IVR', 'JNJ', 'JNPR', 'JPM', 'JWN', 'K', 'KAR', 'KEY', 'KIM', 'KMI', 'KO', 'KODK', 'KR', 'KSS', 'LLY', 'LOW', 'LTHM', 'LUMN', 'LUV', 'LVS', 'M', 'MAC', 'MD', 'MDT', 'MET', 'MFA', 'MGM', 'MMP', 'MO', 'MOS', 'MPC', 'MRK', 'MRO', 'MS', 'MUR', 'NCLH', 'NEE', 'NEM', 'NET', 'NGL', 'NKE', 'NLY', 'NOVA', 'NRG', 'NRZ', 'NUE', 'NVTA', 'NYCB', 'O', 'OMC', 'ORCL', 'OXY', 'PBF', 'PCG', 'PDAC', 'PEAK', 'PFE', 'PG', 'PGR', 'PHM', 'PK', 'PM', 'PPL', 'QEP', 'QS', 'RCL', 'RF', 'RKT', 'RRC', 'RTX', 'SAVE', 'SBH', 'SCHW', 'SE', 'SKT', 'SM', 'SNAP', 'SO', 'SPG', 'SQ', 'STPK', 'SWN', 'SYF', 'T', 'TFC', 'TGT', 'TJX', 'TPR', 'TTI', 'TWLO', 'TWO', 'U', 'UAA', 'UNP', 'UPS', 'USB', 'UWMC', 'V', 'VLO', 'VRT', 'WAB', 'WES', 'WFC', 'WM', 'WMB', 'WMT', 'WPF', 'WTI', 'WU', 'WY', 'X', 'XOM'])"
            ]
          },
          "metadata": {
            "tags": []
          },
          "execution_count": 185
        }
      ]
    },
    {
      "cell_type": "code",
      "metadata": {
        "colab": {
          "base_uri": "https://localhost:8080/",
          "height": 256
        },
        "id": "90fr0GH30x4M",
        "outputId": "ab0bd0cb-614f-4c52-8ca3-bcfa4913cbc8"
      },
      "source": [
        "big_d = []\n",
        "for symkey in daily_highVol_stock_prices.keys():\n",
        "  p_info = daily_highVol_stock_prices[symkey].get('prices')\n",
        "  if p_info != None:\n",
        "    ps = [(p.get('formatted_date'),p.get('adjclose')) for p in p_info]\n",
        "    p_df = pd.DataFrame(ps, columns=['date',symkey])\n",
        "    p_df = p_df.set_index(\"date\")\n",
        "    big_d.append(p_df)\n",
        "  else:\n",
        "    continue\n",
        "#print(pd.concat(big_d, axis=1))\n",
        "stock_df = pd.concat(big_d, axis=1)\n"
      ],
      "execution_count": null,
      "outputs": [
        {
          "output_type": "execute_result",
          "data": {
            "text/html": [
              "<div>\n",
              "<style scoped>\n",
              "    .dataframe tbody tr th:only-of-type {\n",
              "        vertical-align: middle;\n",
              "    }\n",
              "\n",
              "    .dataframe tbody tr th {\n",
              "        vertical-align: top;\n",
              "    }\n",
              "\n",
              "    .dataframe thead th {\n",
              "        text-align: right;\n",
              "    }\n",
              "</style>\n",
              "<table border=\"1\" class=\"dataframe\">\n",
              "  <thead>\n",
              "    <tr style=\"text-align: right;\">\n",
              "      <th></th>\n",
              "      <th>ABBV</th>\n",
              "      <th>ABT</th>\n",
              "      <th>ADT</th>\n",
              "      <th>AES</th>\n",
              "      <th>AFL</th>\n",
              "      <th>AHT</th>\n",
              "      <th>AIG</th>\n",
              "      <th>AIV</th>\n",
              "      <th>ALB</th>\n",
              "      <th>AM</th>\n",
              "      <th>ATUS</th>\n",
              "      <th>AXTA</th>\n",
              "      <th>BA</th>\n",
              "      <th>BAC</th>\n",
              "      <th>BFT</th>\n",
              "      <th>BK</th>\n",
              "      <th>BMY</th>\n",
              "      <th>BSX</th>\n",
              "      <th>C</th>\n",
              "      <th>CAG</th>\n",
              "      <th>CCIV</th>\n",
              "      <th>CCL</th>\n",
              "      <th>CCO</th>\n",
              "      <th>CDE</th>\n",
              "      <th>CF</th>\n",
              "      <th>CFG</th>\n",
              "      <th>CHS</th>\n",
              "      <th>CLF</th>\n",
              "      <th>CLNY</th>\n",
              "      <th>CNC</th>\n",
              "      <th>CNP</th>\n",
              "      <th>CNX</th>\n",
              "      <th>COG</th>\n",
              "      <th>COP</th>\n",
              "      <th>COTY</th>\n",
              "      <th>CPE</th>\n",
              "      <th>CRK</th>\n",
              "      <th>CRM</th>\n",
              "      <th>CVS</th>\n",
              "      <th>CVX</th>\n",
              "      <th>...</th>\n",
              "      <th>SCHW</th>\n",
              "      <th>SE</th>\n",
              "      <th>SKT</th>\n",
              "      <th>SM</th>\n",
              "      <th>SNAP</th>\n",
              "      <th>SO</th>\n",
              "      <th>SPG</th>\n",
              "      <th>SQ</th>\n",
              "      <th>STPK</th>\n",
              "      <th>SWN</th>\n",
              "      <th>SYF</th>\n",
              "      <th>T</th>\n",
              "      <th>TFC</th>\n",
              "      <th>TGT</th>\n",
              "      <th>TJX</th>\n",
              "      <th>TPR</th>\n",
              "      <th>TTI</th>\n",
              "      <th>TWLO</th>\n",
              "      <th>TWO</th>\n",
              "      <th>U</th>\n",
              "      <th>UAA</th>\n",
              "      <th>UNP</th>\n",
              "      <th>UPS</th>\n",
              "      <th>USB</th>\n",
              "      <th>UWMC</th>\n",
              "      <th>V</th>\n",
              "      <th>VLO</th>\n",
              "      <th>VRT</th>\n",
              "      <th>WAB</th>\n",
              "      <th>WES</th>\n",
              "      <th>WFC</th>\n",
              "      <th>WM</th>\n",
              "      <th>WMB</th>\n",
              "      <th>WMT</th>\n",
              "      <th>WPF</th>\n",
              "      <th>WTI</th>\n",
              "      <th>WU</th>\n",
              "      <th>WY</th>\n",
              "      <th>X</th>\n",
              "      <th>XOM</th>\n",
              "    </tr>\n",
              "  </thead>\n",
              "  <tbody>\n",
              "    <tr>\n",
              "      <th>2013-01-02</th>\n",
              "      <td>25.103134</td>\n",
              "      <td>27.273100</td>\n",
              "      <td>NaN</td>\n",
              "      <td>8.516671</td>\n",
              "      <td>22.132555</td>\n",
              "      <td>42.462776</td>\n",
              "      <td>30.981562</td>\n",
              "      <td>2.096377</td>\n",
              "      <td>56.299110</td>\n",
              "      <td>NaN</td>\n",
              "      <td>NaN</td>\n",
              "      <td>NaN</td>\n",
              "      <td>64.583839</td>\n",
              "      <td>10.661530</td>\n",
              "      <td>NaN</td>\n",
              "      <td>22.571970</td>\n",
              "      <td>26.123360</td>\n",
              "      <td>5.89</td>\n",
              "      <td>36.358650</td>\n",
              "      <td>18.789106</td>\n",
              "      <td>NaN</td>\n",
              "      <td>30.327806</td>\n",
              "      <td>3.243526</td>\n",
              "      <td>25.200001</td>\n",
              "      <td>32.771385</td>\n",
              "      <td>NaN</td>\n",
              "      <td>13.715101</td>\n",
              "      <td>34.538010</td>\n",
              "      <td>NaN</td>\n",
              "      <td>10.3400</td>\n",
              "      <td>14.039549</td>\n",
              "      <td>25.213322</td>\n",
              "      <td>22.894434</td>\n",
              "      <td>45.437935</td>\n",
              "      <td>NaN</td>\n",
              "      <td>51.900002</td>\n",
              "      <td>72.394943</td>\n",
              "      <td>42.792500</td>\n",
              "      <td>41.193867</td>\n",
              "      <td>78.484093</td>\n",
              "      <td>...</td>\n",
              "      <td>13.744130</td>\n",
              "      <td>NaN</td>\n",
              "      <td>23.307243</td>\n",
              "      <td>52.528496</td>\n",
              "      <td>NaN</td>\n",
              "      <td>29.904551</td>\n",
              "      <td>107.481178</td>\n",
              "      <td>NaN</td>\n",
              "      <td>NaN</td>\n",
              "      <td>33.349998</td>\n",
              "      <td>NaN</td>\n",
              "      <td>22.110373</td>\n",
              "      <td>23.289074</td>\n",
              "      <td>46.033428</td>\n",
              "      <td>19.464573</td>\n",
              "      <td>42.529373</td>\n",
              "      <td>7.576635</td>\n",
              "      <td>NaN</td>\n",
              "      <td>7.294277</td>\n",
              "      <td>NaN</td>\n",
              "      <td>12.0825</td>\n",
              "      <td>54.029587</td>\n",
              "      <td>59.881084</td>\n",
              "      <td>26.519627</td>\n",
              "      <td>NaN</td>\n",
              "      <td>36.668194</td>\n",
              "      <td>23.989239</td>\n",
              "      <td>NaN</td>\n",
              "      <td>42.794788</td>\n",
              "      <td>20.028854</td>\n",
              "      <td>27.206877</td>\n",
              "      <td>27.649210</td>\n",
              "      <td>21.523186</td>\n",
              "      <td>57.221653</td>\n",
              "      <td>NaN</td>\n",
              "      <td>15.649914</td>\n",
              "      <td>10.446214</td>\n",
              "      <td>21.877724</td>\n",
              "      <td>24.052210</td>\n",
              "      <td>63.030422</td>\n",
              "    </tr>\n",
              "    <tr>\n",
              "      <th>2013-01-03</th>\n",
              "      <td>24.895849</td>\n",
              "      <td>28.311268</td>\n",
              "      <td>NaN</td>\n",
              "      <td>8.470212</td>\n",
              "      <td>21.571774</td>\n",
              "      <td>42.501530</td>\n",
              "      <td>30.726778</td>\n",
              "      <td>2.103270</td>\n",
              "      <td>55.931358</td>\n",
              "      <td>NaN</td>\n",
              "      <td>NaN</td>\n",
              "      <td>NaN</td>\n",
              "      <td>64.919044</td>\n",
              "      <td>10.599492</td>\n",
              "      <td>NaN</td>\n",
              "      <td>22.320055</td>\n",
              "      <td>26.546642</td>\n",
              "      <td>5.95</td>\n",
              "      <td>36.482048</td>\n",
              "      <td>18.745396</td>\n",
              "      <td>NaN</td>\n",
              "      <td>29.947704</td>\n",
              "      <td>3.285050</td>\n",
              "      <td>23.850000</td>\n",
              "      <td>32.616428</td>\n",
              "      <td>NaN</td>\n",
              "      <td>13.812857</td>\n",
              "      <td>33.968456</td>\n",
              "      <td>NaN</td>\n",
              "      <td>10.2275</td>\n",
              "      <td>14.082485</td>\n",
              "      <td>25.961348</td>\n",
              "      <td>23.201374</td>\n",
              "      <td>45.407242</td>\n",
              "      <td>NaN</td>\n",
              "      <td>50.500000</td>\n",
              "      <td>71.874794</td>\n",
              "      <td>42.177502</td>\n",
              "      <td>41.276772</td>\n",
              "      <td>78.149925</td>\n",
              "      <td>...</td>\n",
              "      <td>13.725905</td>\n",
              "      <td>NaN</td>\n",
              "      <td>23.280218</td>\n",
              "      <td>52.836189</td>\n",
              "      <td>NaN</td>\n",
              "      <td>29.897732</td>\n",
              "      <td>106.620277</td>\n",
              "      <td>NaN</td>\n",
              "      <td>NaN</td>\n",
              "      <td>33.470001</td>\n",
              "      <td>NaN</td>\n",
              "      <td>22.123005</td>\n",
              "      <td>23.172899</td>\n",
              "      <td>47.082130</td>\n",
              "      <td>20.100319</td>\n",
              "      <td>42.390518</td>\n",
              "      <td>7.528984</td>\n",
              "      <td>NaN</td>\n",
              "      <td>7.275316</td>\n",
              "      <td>NaN</td>\n",
              "      <td>12.4150</td>\n",
              "      <td>54.105293</td>\n",
              "      <td>59.935997</td>\n",
              "      <td>26.149620</td>\n",
              "      <td>NaN</td>\n",
              "      <td>36.696491</td>\n",
              "      <td>23.475374</td>\n",
              "      <td>NaN</td>\n",
              "      <td>43.453548</td>\n",
              "      <td>19.978266</td>\n",
              "      <td>26.981770</td>\n",
              "      <td>27.746891</td>\n",
              "      <td>21.358738</td>\n",
              "      <td>56.858017</td>\n",
              "      <td>NaN</td>\n",
              "      <td>15.760516</td>\n",
              "      <td>10.271605</td>\n",
              "      <td>21.877724</td>\n",
              "      <td>23.615570</td>\n",
              "      <td>62.916748</td>\n",
              "    </tr>\n",
              "    <tr>\n",
              "      <th>2013-01-04</th>\n",
              "      <td>24.581341</td>\n",
              "      <td>28.141081</td>\n",
              "      <td>NaN</td>\n",
              "      <td>8.671516</td>\n",
              "      <td>21.301617</td>\n",
              "      <td>42.617748</td>\n",
              "      <td>30.828688</td>\n",
              "      <td>2.102504</td>\n",
              "      <td>56.588036</td>\n",
              "      <td>NaN</td>\n",
              "      <td>NaN</td>\n",
              "      <td>NaN</td>\n",
              "      <td>65.103409</td>\n",
              "      <td>10.732428</td>\n",
              "      <td>NaN</td>\n",
              "      <td>22.916265</td>\n",
              "      <td>26.634491</td>\n",
              "      <td>5.92</td>\n",
              "      <td>37.398727</td>\n",
              "      <td>18.882771</td>\n",
              "      <td>NaN</td>\n",
              "      <td>29.971962</td>\n",
              "      <td>3.252753</td>\n",
              "      <td>24.230000</td>\n",
              "      <td>33.347000</td>\n",
              "      <td>NaN</td>\n",
              "      <td>14.045948</td>\n",
              "      <td>33.363300</td>\n",
              "      <td>NaN</td>\n",
              "      <td>10.4000</td>\n",
              "      <td>14.182666</td>\n",
              "      <td>26.367880</td>\n",
              "      <td>23.303680</td>\n",
              "      <td>45.913734</td>\n",
              "      <td>NaN</td>\n",
              "      <td>52.400002</td>\n",
              "      <td>71.591072</td>\n",
              "      <td>42.402500</td>\n",
              "      <td>41.450912</td>\n",
              "      <td>78.562294</td>\n",
              "      <td>...</td>\n",
              "      <td>14.090470</td>\n",
              "      <td>NaN</td>\n",
              "      <td>23.205906</td>\n",
              "      <td>52.711185</td>\n",
              "      <td>NaN</td>\n",
              "      <td>30.164120</td>\n",
              "      <td>106.667358</td>\n",
              "      <td>NaN</td>\n",
              "      <td>NaN</td>\n",
              "      <td>34.340000</td>\n",
              "      <td>NaN</td>\n",
              "      <td>22.255665</td>\n",
              "      <td>23.389759</td>\n",
              "      <td>47.410824</td>\n",
              "      <td>20.091301</td>\n",
              "      <td>42.822525</td>\n",
              "      <td>7.690999</td>\n",
              "      <td>NaN</td>\n",
              "      <td>7.408053</td>\n",
              "      <td>NaN</td>\n",
              "      <td>12.3375</td>\n",
              "      <td>55.051636</td>\n",
              "      <td>60.085091</td>\n",
              "      <td>26.720713</td>\n",
              "      <td>NaN</td>\n",
              "      <td>36.996216</td>\n",
              "      <td>23.874300</td>\n",
              "      <td>NaN</td>\n",
              "      <td>43.309296</td>\n",
              "      <td>20.035183</td>\n",
              "      <td>27.121485</td>\n",
              "      <td>27.738749</td>\n",
              "      <td>21.592756</td>\n",
              "      <td>57.072884</td>\n",
              "      <td>NaN</td>\n",
              "      <td>15.972497</td>\n",
              "      <td>10.643600</td>\n",
              "      <td>22.057846</td>\n",
              "      <td>23.875690</td>\n",
              "      <td>63.208046</td>\n",
              "    </tr>\n",
              "    <tr>\n",
              "      <th>2013-01-07</th>\n",
              "      <td>24.631376</td>\n",
              "      <td>28.370836</td>\n",
              "      <td>NaN</td>\n",
              "      <td>8.400533</td>\n",
              "      <td>21.219751</td>\n",
              "      <td>42.230320</td>\n",
              "      <td>30.514462</td>\n",
              "      <td>2.108632</td>\n",
              "      <td>56.868214</td>\n",
              "      <td>NaN</td>\n",
              "      <td>NaN</td>\n",
              "      <td>NaN</td>\n",
              "      <td>63.796143</td>\n",
              "      <td>10.714706</td>\n",
              "      <td>NaN</td>\n",
              "      <td>22.580372</td>\n",
              "      <td>26.674421</td>\n",
              "      <td>5.98</td>\n",
              "      <td>37.433971</td>\n",
              "      <td>18.839066</td>\n",
              "      <td>NaN</td>\n",
              "      <td>29.874910</td>\n",
              "      <td>3.414237</td>\n",
              "      <td>23.510000</td>\n",
              "      <td>33.222076</td>\n",
              "      <td>NaN</td>\n",
              "      <td>13.857968</td>\n",
              "      <td>33.692577</td>\n",
              "      <td>NaN</td>\n",
              "      <td>10.6200</td>\n",
              "      <td>14.025240</td>\n",
              "      <td>25.839390</td>\n",
              "      <td>23.117659</td>\n",
              "      <td>45.407242</td>\n",
              "      <td>NaN</td>\n",
              "      <td>51.200001</td>\n",
              "      <td>72.489517</td>\n",
              "      <td>42.244999</td>\n",
              "      <td>41.484070</td>\n",
              "      <td>78.029053</td>\n",
              "      <td>...</td>\n",
              "      <td>13.917300</td>\n",
              "      <td>NaN</td>\n",
              "      <td>23.341022</td>\n",
              "      <td>52.663113</td>\n",
              "      <td>NaN</td>\n",
              "      <td>29.638151</td>\n",
              "      <td>107.427383</td>\n",
              "      <td>NaN</td>\n",
              "      <td>NaN</td>\n",
              "      <td>33.509998</td>\n",
              "      <td>NaN</td>\n",
              "      <td>22.356745</td>\n",
              "      <td>23.265835</td>\n",
              "      <td>47.974319</td>\n",
              "      <td>19.956038</td>\n",
              "      <td>42.915096</td>\n",
              "      <td>7.700530</td>\n",
              "      <td>NaN</td>\n",
              "      <td>7.376448</td>\n",
              "      <td>NaN</td>\n",
              "      <td>12.1075</td>\n",
              "      <td>54.790863</td>\n",
              "      <td>59.912472</td>\n",
              "      <td>26.479403</td>\n",
              "      <td>NaN</td>\n",
              "      <td>37.260513</td>\n",
              "      <td>23.225210</td>\n",
              "      <td>NaN</td>\n",
              "      <td>42.905388</td>\n",
              "      <td>20.180639</td>\n",
              "      <td>26.989532</td>\n",
              "      <td>27.649210</td>\n",
              "      <td>21.497889</td>\n",
              "      <td>56.527443</td>\n",
              "      <td>NaN</td>\n",
              "      <td>15.926414</td>\n",
              "      <td>10.377888</td>\n",
              "      <td>22.125393</td>\n",
              "      <td>23.884979</td>\n",
              "      <td>62.476223</td>\n",
              "    </tr>\n",
              "    <tr>\n",
              "      <th>2013-01-08</th>\n",
              "      <td>24.095289</td>\n",
              "      <td>28.379343</td>\n",
              "      <td>NaN</td>\n",
              "      <td>8.400533</td>\n",
              "      <td>21.465351</td>\n",
              "      <td>42.617748</td>\n",
              "      <td>30.276667</td>\n",
              "      <td>2.100973</td>\n",
              "      <td>55.835052</td>\n",
              "      <td>NaN</td>\n",
              "      <td>NaN</td>\n",
              "      <td>NaN</td>\n",
              "      <td>62.120163</td>\n",
              "      <td>10.617216</td>\n",
              "      <td>NaN</td>\n",
              "      <td>22.269672</td>\n",
              "      <td>26.746300</td>\n",
              "      <td>6.12</td>\n",
              "      <td>37.425171</td>\n",
              "      <td>18.826574</td>\n",
              "      <td>NaN</td>\n",
              "      <td>29.923437</td>\n",
              "      <td>3.321961</td>\n",
              "      <td>23.150000</td>\n",
              "      <td>32.735027</td>\n",
              "      <td>NaN</td>\n",
              "      <td>13.760217</td>\n",
              "      <td>33.834969</td>\n",
              "      <td>NaN</td>\n",
              "      <td>10.3300</td>\n",
              "      <td>13.932212</td>\n",
              "      <td>25.424719</td>\n",
              "      <td>22.768873</td>\n",
              "      <td>44.793327</td>\n",
              "      <td>NaN</td>\n",
              "      <td>52.799999</td>\n",
              "      <td>72.016655</td>\n",
              "      <td>42.492500</td>\n",
              "      <td>41.334820</td>\n",
              "      <td>77.680679</td>\n",
              "      <td>...</td>\n",
              "      <td>13.871731</td>\n",
              "      <td>NaN</td>\n",
              "      <td>23.361288</td>\n",
              "      <td>52.759266</td>\n",
              "      <td>NaN</td>\n",
              "      <td>29.556187</td>\n",
              "      <td>107.037292</td>\n",
              "      <td>NaN</td>\n",
              "      <td>NaN</td>\n",
              "      <td>32.730000</td>\n",
              "      <td>NaN</td>\n",
              "      <td>21.979225</td>\n",
              "      <td>23.103195</td>\n",
              "      <td>47.457783</td>\n",
              "      <td>19.613361</td>\n",
              "      <td>44.226543</td>\n",
              "      <td>7.938789</td>\n",
              "      <td>NaN</td>\n",
              "      <td>7.483903</td>\n",
              "      <td>NaN</td>\n",
              "      <td>12.1600</td>\n",
              "      <td>54.753021</td>\n",
              "      <td>59.747677</td>\n",
              "      <td>26.519627</td>\n",
              "      <td>NaN</td>\n",
              "      <td>37.607410</td>\n",
              "      <td>23.441566</td>\n",
              "      <td>NaN</td>\n",
              "      <td>42.857304</td>\n",
              "      <td>20.047831</td>\n",
              "      <td>26.942961</td>\n",
              "      <td>27.706192</td>\n",
              "      <td>21.232244</td>\n",
              "      <td>56.684483</td>\n",
              "      <td>NaN</td>\n",
              "      <td>15.788164</td>\n",
              "      <td>10.377888</td>\n",
              "      <td>22.275496</td>\n",
              "      <td>23.234674</td>\n",
              "      <td>62.867039</td>\n",
              "    </tr>\n",
              "  </tbody>\n",
              "</table>\n",
              "<p>5 rows × 200 columns</p>\n",
              "</div>"
            ],
            "text/plain": [
              "                 ABBV        ABT  ADT  ...         WY          X        XOM\n",
              "2013-01-02  25.103134  27.273100  NaN  ...  21.877724  24.052210  63.030422\n",
              "2013-01-03  24.895849  28.311268  NaN  ...  21.877724  23.615570  62.916748\n",
              "2013-01-04  24.581341  28.141081  NaN  ...  22.057846  23.875690  63.208046\n",
              "2013-01-07  24.631376  28.370836  NaN  ...  22.125393  23.884979  62.476223\n",
              "2013-01-08  24.095289  28.379343  NaN  ...  22.275496  23.234674  62.867039\n",
              "\n",
              "[5 rows x 200 columns]"
            ]
          },
          "metadata": {
            "tags": []
          },
          "execution_count": 186
        }
      ]
    },
    {
      "cell_type": "code",
      "metadata": {
        "id": "Ssxm9nD2SiN5"
      },
      "source": [
        "stock_df.to_csv('highVolStocks200.csv')"
      ],
      "execution_count": null,
      "outputs": []
    },
    {
      "cell_type": "markdown",
      "metadata": {
        "id": "5ZSmwhiz_OO8"
      },
      "source": [
        "## PyPortfolioOpt"
      ]
    },
    {
      "cell_type": "code",
      "metadata": {
        "colab": {
          "base_uri": "https://localhost:8080/"
        },
        "id": "tBfAbAHe_VS1",
        "outputId": "cc42ab4d-4a02-4b24-9eb2-e6162a1efbb2"
      },
      "source": [
        "!pip install PyPortfolioOpt"
      ],
      "execution_count": null,
      "outputs": [
        {
          "output_type": "stream",
          "text": [
            "Collecting PyPortfolioOpt\n",
            "\u001b[?25l  Downloading https://files.pythonhosted.org/packages/46/55/7d39d78d554ee33a7317e345caf01339da11406c28f18bc48794fe967935/PyPortfolioOpt-1.4.1-py3-none-any.whl (56kB)\n",
            "\r\u001b[K     |█████▊                          | 10kB 16.2MB/s eta 0:00:01\r\u001b[K     |███████████▌                    | 20kB 9.9MB/s eta 0:00:01\r\u001b[K     |█████████████████▎              | 30kB 8.6MB/s eta 0:00:01\r\u001b[K     |███████████████████████         | 40kB 7.7MB/s eta 0:00:01\r\u001b[K     |████████████████████████████▉   | 51kB 5.2MB/s eta 0:00:01\r\u001b[K     |████████████████████████████████| 61kB 2.8MB/s \n",
            "\u001b[?25hRequirement already satisfied: pandas>=0.19 in /usr/local/lib/python3.6/dist-packages (from PyPortfolioOpt) (1.1.5)\n",
            "Collecting cvxpy<2.0.0,>=1.1.10\n",
            "\u001b[?25l  Downloading https://files.pythonhosted.org/packages/1e/25/c960568e00b8eea26b339e2b56121028c98bddb6ad66c4b9e1d71889f849/cvxpy-1.1.10.tar.gz (1.0MB)\n",
            "\u001b[K     |████████████████████████████████| 1.0MB 7.2MB/s \n",
            "\u001b[?25h  Installing build dependencies ... \u001b[?25l\u001b[?25hdone\n",
            "  Getting requirements to build wheel ... \u001b[?25l\u001b[?25hdone\n",
            "    Preparing wheel metadata ... \u001b[?25l\u001b[?25hdone\n",
            "Requirement already satisfied: scipy<2.0,>=1.3 in /usr/local/lib/python3.6/dist-packages (from PyPortfolioOpt) (1.4.1)\n",
            "Requirement already satisfied: numpy<2.0,>=1.12 in /usr/local/lib/python3.6/dist-packages (from PyPortfolioOpt) (1.19.5)\n",
            "Requirement already satisfied: pytz>=2017.2 in /usr/local/lib/python3.6/dist-packages (from pandas>=0.19->PyPortfolioOpt) (2018.9)\n",
            "Requirement already satisfied: python-dateutil>=2.7.3 in /usr/local/lib/python3.6/dist-packages (from pandas>=0.19->PyPortfolioOpt) (2.8.1)\n",
            "Requirement already satisfied: osqp>=0.4.1 in /usr/local/lib/python3.6/dist-packages (from cvxpy<2.0.0,>=1.1.10->PyPortfolioOpt) (0.6.2.post0)\n",
            "Requirement already satisfied: scs>=1.1.6 in /usr/local/lib/python3.6/dist-packages (from cvxpy<2.0.0,>=1.1.10->PyPortfolioOpt) (2.1.2)\n",
            "Requirement already satisfied: ecos>=2 in /usr/local/lib/python3.6/dist-packages (from cvxpy<2.0.0,>=1.1.10->PyPortfolioOpt) (2.0.7.post1)\n",
            "Requirement already satisfied: six>=1.5 in /usr/local/lib/python3.6/dist-packages (from python-dateutil>=2.7.3->pandas>=0.19->PyPortfolioOpt) (1.15.0)\n",
            "Requirement already satisfied: qdldl in /usr/local/lib/python3.6/dist-packages (from osqp>=0.4.1->cvxpy<2.0.0,>=1.1.10->PyPortfolioOpt) (0.1.5.post0)\n",
            "Building wheels for collected packages: cvxpy\n",
            "  Building wheel for cvxpy (PEP 517) ... \u001b[?25l\u001b[?25hdone\n",
            "  Created wheel for cvxpy: filename=cvxpy-1.1.10-cp36-cp36m-linux_x86_64.whl size=2683447 sha256=cf05835b66af511b2350f0c653c417a5bdf7e704d47a5f8cbca6c69eb0796f3e\n",
            "  Stored in directory: /root/.cache/pip/wheels/64/d6/c9/9295499aefa5af80018eaabffd09216170a1349b45551fb8d5\n",
            "Successfully built cvxpy\n",
            "Installing collected packages: cvxpy, PyPortfolioOpt\n",
            "  Found existing installation: cvxpy 1.0.31\n",
            "    Uninstalling cvxpy-1.0.31:\n",
            "      Successfully uninstalled cvxpy-1.0.31\n",
            "Successfully installed PyPortfolioOpt-1.4.1 cvxpy-1.1.10\n"
          ],
          "name": "stdout"
        }
      ]
    },
    {
      "cell_type": "code",
      "metadata": {
        "id": "5w8iWLdYBYq_"
      },
      "source": [
        "from pypfopt.efficient_frontier import EfficientFrontier\n",
        "from pypfopt import risk_models\n",
        "from pypfopt import expected_returns\n"
      ],
      "execution_count": null,
      "outputs": []
    },
    {
      "cell_type": "code",
      "metadata": {
        "colab": {
          "base_uri": "https://localhost:8080/"
        },
        "id": "9aBuKyjtX-Dl",
        "outputId": "3e02f167-1b33-45a6-b353-9b73e9e4a7d4"
      },
      "source": [
        "mu = expected_returns.mean_historical_return(stock_df) \n",
        "S = risk_models.sample_cov(stock_df)"
      ],
      "execution_count": null,
      "outputs": [
        {
          "output_type": "stream",
          "text": [
            "/usr/local/lib/python3.6/dist-packages/pypfopt/risk_models.py:69: UserWarning: The covariance matrix is non positive semidefinite. Amending eigenvalues.\n",
            "  \"The covariance matrix is non positive semidefinite. Amending eigenvalues.\"\n",
            "/usr/local/lib/python3.6/dist-packages/pypfopt/risk_models.py:88: UserWarning: Could not fix matrix. Please try a different risk model.\n",
            "  \"Could not fix matrix. Please try a different risk model.\", UserWarning\n"
          ],
          "name": "stderr"
        }
      ]
    },
    {
      "cell_type": "code",
      "metadata": {
        "colab": {
          "base_uri": "https://localhost:8080/"
        },
        "id": "QNIUojUOaZ-G",
        "outputId": "4cde0d11-d32b-40c1-e09f-184cdf2c8078"
      },
      "source": [
        "ef = EfficientFrontier(mu,S)\n",
        "weights = ef.max_sharpe()\n",
        "\n",
        "cleaned_weights = ef.clean_weights()\n",
        "print(cleaned_weights)\n",
        "ef.portfolio_performance(verbose=True)"
      ],
      "execution_count": null,
      "outputs": [
        {
          "output_type": "stream",
          "text": [
            "OrderedDict([('ABBV', 0.0), ('ABT', 0.0), ('ADT', 0.0), ('AES', 0.02339), ('AFL', 0.0), ('AHT', 0.0), ('AIG', 0.0), ('AIV', 0.0), ('ALB', 0.0), ('AM', 0.0), ('ATUS', 0.0), ('AXTA', 0.0), ('BA', 0.0), ('BAC', 0.0), ('BFT', 0.09946), ('BK', 0.0), ('BMY', 0.0), ('BSX', 0.0), ('C', 0.0), ('CAG', 0.0), ('CCIV', 0.0), ('CCL', 0.0), ('CCO', 0.0), ('CDE', 0.0), ('CF', 0.0), ('CFG', 0.0), ('CHS', 0.0), ('CLF', 0.0), ('CLNY', 0.0), ('CNC', 0.0), ('CNP', 0.0), ('CNX', 0.0), ('COG', 0.0), ('COP', 0.0), ('COTY', 0.0), ('CPE', 0.0), ('CRK', 0.0), ('CRM', 0.0), ('CVS', 0.0), ('CVX', 0.0), ('CXW', 0.0), ('CYH', 0.0), ('D', 0.0), ('DAL', 0.0), ('DDD', 0.0), ('DHF', 0.0), ('DIS', 0.0), ('DUK', 0.0), ('DVN', 0.0), ('ED', 0.0), ('ELAN', 0.0), ('EPD', 0.0), ('EQT', 0.0), ('ET', 0.0), ('EXPR', 0.0), ('F', 0.0), ('FCX', 0.0), ('FE', 0.0), ('FHN', 0.0), ('FINV', 0.0), ('FLR', 0.0), ('FNB', 0.0), ('GE', 0.0), ('GEO', 0.0), ('GIS', 0.0), ('GLW', 0.0), ('GM', 0.05012), ('GME', 0.0), ('GNW', 0.0), ('GPK', 0.0), ('GPS', 0.0), ('GSAH', 0.0), ('GTT', 0.0), ('HAL', 0.0), ('HBI', 0.0), ('HD', 0.0), ('HL', 0.0), ('HPE', 0.0), ('HPQ', 0.0), ('HTA', 0.0), ('HUYA', 0.0), ('IBM', 0.0), ('IFF', 0.0), ('IGT', 0.0), ('INVH', 0.0), ('IPG', 0.0), ('IPOE', 0.0), ('IPOF', 0.0), ('IVR', 0.0), ('JNJ', 0.0), ('JNPR', 0.08981), ('JPM', 0.0), ('JWN', 0.0), ('K', 0.0), ('KAR', 0.0), ('KEY', 0.0), ('KIM', 0.0), ('KMI', 0.0), ('KO', 0.0), ('KODK', 0.00182), ('KR', 0.0), ('KSS', 0.0), ('LLY', 0.0), ('LOW', 0.0), ('LTHM', 0.0), ('LUMN', 0.0), ('LUV', 0.0), ('LVS', 0.0), ('M', 0.0), ('MAC', 0.0), ('MD', 0.0), ('MDT', 0.0), ('MET', 0.0), ('MFA', 0.0), ('MGM', 0.0), ('MMP', 0.0), ('MO', 0.0), ('MOS', 0.0), ('MPC', 0.0), ('MRK', 0.0), ('MRO', 0.0), ('MS', 0.0), ('MUR', 0.0), ('NCLH', 0.0), ('NEE', 0.18917), ('NEM', 0.0), ('NET', 0.0), ('NGL', 0.0), ('NKE', 0.16749), ('NLY', 0.0), ('NOVA', 0.0), ('NRG', 0.0), ('NRZ', 0.0), ('NUE', 0.0), ('NVTA', 0.0), ('NYCB', 0.0), ('O', 0.0), ('OMC', 0.0), ('ORCL', 0.0), ('OXY', 0.0), ('PBF', 0.0), ('PCG', 0.0), ('PDAC', 0.0), ('PEAK', 0.0), ('PFE', 0.0), ('PG', 0.0), ('PGR', 0.0), ('PHM', 0.0), ('PK', 0.0), ('PM', 0.0), ('PPL', 0.0), ('QEP', 0.0), ('QS', 0.19949), ('RCL', 0.0), ('RF', 0.0), ('RKT', 0.04861), ('RRC', 0.0), ('RTX', 0.0), ('SAVE', 0.0), ('SBH', 0.0), ('SCHW', 0.0), ('SE', 0.0), ('SKT', 0.0), ('SM', 0.0), ('SNAP', 0.0), ('SO', 0.0), ('SPG', 0.0), ('SQ', 0.0), ('STPK', 0.02874), ('SWN', 0.0), ('SYF', 0.0), ('T', 0.0), ('TFC', 0.0), ('TGT', 0.0), ('TJX', 0.0), ('TPR', 0.0), ('TTI', 0.0), ('TWLO', 0.02672), ('TWO', 0.0), ('U', 0.01142), ('UAA', 0.0), ('UNP', 0.0), ('UPS', 0.0), ('USB', 0.0), ('UWMC', 0.0), ('V', 0.0), ('VLO', 0.0), ('VRT', 0.0), ('WAB', 0.0), ('WES', 0.0), ('WFC', 0.0), ('WM', 0.0), ('WMB', 0.0), ('WMT', 0.0), ('WPF', 0.06374), ('WTI', 0.0), ('WU', 0.0), ('WY', 0.0), ('X', 0.0), ('XOM', 0.0)])\n",
            "Expected annual return: 4024.3%\n",
            "Annual volatility: 45.8%\n",
            "Sharpe Ratio: 87.83\n"
          ],
          "name": "stdout"
        },
        {
          "output_type": "execute_result",
          "data": {
            "text/plain": [
              "(40.2431073604792, 0.4579806581926586, 87.82708754385551)"
            ]
          },
          "metadata": {
            "tags": []
          },
          "execution_count": 194
        }
      ]
    },
    {
      "cell_type": "code",
      "metadata": {
        "colab": {
          "base_uri": "https://localhost:8080/"
        },
        "id": "f_x76ZDMbSue",
        "outputId": "980af611-9a5f-4dff-e525-8c3e8690989a"
      },
      "source": [
        "pip install pulp"
      ],
      "execution_count": null,
      "outputs": [
        {
          "output_type": "stream",
          "text": [
            "Collecting pulp\n",
            "\u001b[?25l  Downloading https://files.pythonhosted.org/packages/14/c4/0eec14a0123209c261de6ff154ef3be5cad3fd557c084f468356662e0585/PuLP-2.4-py3-none-any.whl (40.6MB)\n",
            "\u001b[K     |████████████████████████████████| 40.6MB 100kB/s \n",
            "\u001b[?25hCollecting amply>=0.1.2\n",
            "  Downloading https://files.pythonhosted.org/packages/f3/c5/dfa09dd2595a2ab2ab4e6fa7bebef9565812722e1980d04b0edce5032066/amply-0.1.4-py3-none-any.whl\n",
            "Requirement already satisfied: pyparsing in /usr/local/lib/python3.6/dist-packages (from amply>=0.1.2->pulp) (2.4.7)\n",
            "Requirement already satisfied: docutils>=0.3 in /usr/local/lib/python3.6/dist-packages (from amply>=0.1.2->pulp) (0.16)\n",
            "Installing collected packages: amply, pulp\n",
            "Successfully installed amply-0.1.4 pulp-2.4\n"
          ],
          "name": "stdout"
        }
      ]
    },
    {
      "cell_type": "code",
      "metadata": {
        "id": "gvzKPvkpbWKW"
      },
      "source": [
        "from pypfopt.discrete_allocation import DiscreteAllocation, get_latest_prices\n"
      ],
      "execution_count": null,
      "outputs": []
    },
    {
      "cell_type": "code",
      "metadata": {
        "colab": {
          "base_uri": "https://localhost:8080/"
        },
        "id": "iwkyslxkb6qy",
        "outputId": "167fa756-fd60-4745-911e-f3b4d821b22c"
      },
      "source": [
        "portfolio_val = 8000\n",
        "latest_price = get_latest_prices(stock_df)\n",
        "weights = cleaned_weights\n",
        "\n",
        "da = DiscreteAllocation(weights,latest_price,portfolio_val)\n",
        "\n",
        "allocation, leftover = da.lp_portfolio()\n",
        "\n",
        "print(\"Discrete Allocation: \", allocation)\n",
        "print(\"Remaining amount: $\", leftover)"
      ],
      "execution_count": null,
      "outputs": [
        {
          "output_type": "stream",
          "text": [
            "Discrete Allocation:  {'AES': 9, 'BFT': 54, 'EXPR': 1, 'GM': 10, 'JNPR': 32, 'KODK': 1, 'NEE': 20, 'NKE': 10, 'QS': 28, 'RKT': 18, 'STPK': 13, 'TWLO': 1, 'WPF': 45}\n",
            "Remaining amount: $ 0.9207839965820312\n"
          ],
          "name": "stdout"
        }
      ]
    },
    {
      "cell_type": "code",
      "metadata": {
        "colab": {
          "base_uri": "https://localhost:8080/"
        },
        "id": "SrunQfcBhBIR",
        "outputId": "202289c4-5ecd-4040-9097-414943e91e3f"
      },
      "source": [
        "portfolio_com = []\n",
        "for k in allocation.keys():\n",
        "  company = ticker_df.loc[ticker_df['Symbol'] == k]\n",
        "  portfolio_com.append(company['Name'])\n",
        "portfolio_com"
      ],
      "execution_count": null,
      "outputs": [
        {
          "output_type": "execute_result",
          "data": {
            "text/plain": [
              "[55    The AES Corporation Common Stock\n",
              " Name: Name, dtype: object,\n",
              " 369    Foley Trasimene Acquisition Corp. II Class A C...\n",
              " Name: Name, dtype: object,\n",
              " 1040    Express Inc. Common Stock\n",
              " Name: Name, dtype: object,\n",
              " 1242    General Motors Company Common Stock\n",
              " Name: Name, dtype: object,\n",
              " 1531    Juniper Networks Inc. Common Stock\n",
              " Name: Name, dtype: object,\n",
              " 1596    Eastman Kodak Company Common New\n",
              " Name: Name, dtype: object,\n",
              " 1901    NextEra Energy Inc. Common Stock\n",
              " Name: Name, dtype: object,\n",
              " 1942    Nike Inc. Common Stock\n",
              " Name: Name, dtype: object,\n",
              " 2295    QuantumScape Corporation Class A Common Stock\n",
              " Name: Name, dtype: object,\n",
              " 2358    Rocket Companies Inc. Class A Common Stock\n",
              " Name: Name, dtype: object,\n",
              " 2602    Star Peak Energy Transition Corp. Class A Comm...\n",
              " Name: Name, dtype: object,\n",
              " 2773    Twilio Inc. Class A Common Stock\n",
              " Name: Name, dtype: object,\n",
              " 2975    Foley Trasimene Acquisition Corp. Class A Comm...\n",
              " Name: Name, dtype: object]"
            ]
          },
          "metadata": {
            "tags": []
          },
          "execution_count": 232
        }
      ]
    },
    {
      "cell_type": "code",
      "metadata": {
        "id": "b8DGuFBeqx8N"
      },
      "source": [
        "portfolio_df = pd.DataFrame(columns=['Company ticker','Company name','Discrete_Val_'+str(portfolio_val)])"
      ],
      "execution_count": null,
      "outputs": []
    },
    {
      "cell_type": "code",
      "metadata": {
        "colab": {
          "base_uri": "https://localhost:8080/",
          "height": 457
        },
        "id": "1_tKscckjw4A",
        "outputId": "b053b8c7-9e18-45d9-ad83-33723d3a6501"
      },
      "source": [
        "portfolio_df['Company ticker'] = list(allocation.keys())\n",
        "portfolio_df['Company name'] = portfolio_com\n",
        "portfolio_df['Discrete_Val_'+str(portfolio_val)] = list(allocation.values())\n",
        "portfolio_df"
      ],
      "execution_count": null,
      "outputs": [
        {
          "output_type": "execute_result",
          "data": {
            "text/html": [
              "<div>\n",
              "<style scoped>\n",
              "    .dataframe tbody tr th:only-of-type {\n",
              "        vertical-align: middle;\n",
              "    }\n",
              "\n",
              "    .dataframe tbody tr th {\n",
              "        vertical-align: top;\n",
              "    }\n",
              "\n",
              "    .dataframe thead th {\n",
              "        text-align: right;\n",
              "    }\n",
              "</style>\n",
              "<table border=\"1\" class=\"dataframe\">\n",
              "  <thead>\n",
              "    <tr style=\"text-align: right;\">\n",
              "      <th></th>\n",
              "      <th>Company ticker</th>\n",
              "      <th>Company name</th>\n",
              "      <th>Discrete_Val_8000</th>\n",
              "    </tr>\n",
              "  </thead>\n",
              "  <tbody>\n",
              "    <tr>\n",
              "      <th>0</th>\n",
              "      <td>AES</td>\n",
              "      <td>55    The AES Corporation Common Stock\n",
              "Name: N...</td>\n",
              "      <td>9</td>\n",
              "    </tr>\n",
              "    <tr>\n",
              "      <th>1</th>\n",
              "      <td>BFT</td>\n",
              "      <td>369    Foley Trasimene Acquisition Corp. II Cl...</td>\n",
              "      <td>54</td>\n",
              "    </tr>\n",
              "    <tr>\n",
              "      <th>2</th>\n",
              "      <td>EXPR</td>\n",
              "      <td>1040    Express Inc. Common Stock\n",
              "Name: Name, ...</td>\n",
              "      <td>1</td>\n",
              "    </tr>\n",
              "    <tr>\n",
              "      <th>3</th>\n",
              "      <td>GM</td>\n",
              "      <td>1242    General Motors Company Common Stock\n",
              "Na...</td>\n",
              "      <td>10</td>\n",
              "    </tr>\n",
              "    <tr>\n",
              "      <th>4</th>\n",
              "      <td>JNPR</td>\n",
              "      <td>1531    Juniper Networks Inc. Common Stock\n",
              "Nam...</td>\n",
              "      <td>32</td>\n",
              "    </tr>\n",
              "    <tr>\n",
              "      <th>5</th>\n",
              "      <td>KODK</td>\n",
              "      <td>1596    Eastman Kodak Company Common New\n",
              "Name:...</td>\n",
              "      <td>1</td>\n",
              "    </tr>\n",
              "    <tr>\n",
              "      <th>6</th>\n",
              "      <td>NEE</td>\n",
              "      <td>1901    NextEra Energy Inc. Common Stock\n",
              "Name:...</td>\n",
              "      <td>20</td>\n",
              "    </tr>\n",
              "    <tr>\n",
              "      <th>7</th>\n",
              "      <td>NKE</td>\n",
              "      <td>1942    Nike Inc. Common Stock\n",
              "Name: Name, dty...</td>\n",
              "      <td>10</td>\n",
              "    </tr>\n",
              "    <tr>\n",
              "      <th>8</th>\n",
              "      <td>QS</td>\n",
              "      <td>2295    QuantumScape Corporation Class A Commo...</td>\n",
              "      <td>28</td>\n",
              "    </tr>\n",
              "    <tr>\n",
              "      <th>9</th>\n",
              "      <td>RKT</td>\n",
              "      <td>2358    Rocket Companies Inc. Class A Common S...</td>\n",
              "      <td>18</td>\n",
              "    </tr>\n",
              "    <tr>\n",
              "      <th>10</th>\n",
              "      <td>STPK</td>\n",
              "      <td>2602    Star Peak Energy Transition Corp. Clas...</td>\n",
              "      <td>13</td>\n",
              "    </tr>\n",
              "    <tr>\n",
              "      <th>11</th>\n",
              "      <td>TWLO</td>\n",
              "      <td>2773    Twilio Inc. Class A Common Stock\n",
              "Name:...</td>\n",
              "      <td>1</td>\n",
              "    </tr>\n",
              "    <tr>\n",
              "      <th>12</th>\n",
              "      <td>WPF</td>\n",
              "      <td>2975    Foley Trasimene Acquisition Corp. Clas...</td>\n",
              "      <td>45</td>\n",
              "    </tr>\n",
              "  </tbody>\n",
              "</table>\n",
              "</div>"
            ],
            "text/plain": [
              "   Company ticker  ... Discrete_Val_8000\n",
              "0             AES  ...                 9\n",
              "1             BFT  ...                54\n",
              "2            EXPR  ...                 1\n",
              "3              GM  ...                10\n",
              "4            JNPR  ...                32\n",
              "5            KODK  ...                 1\n",
              "6             NEE  ...                20\n",
              "7             NKE  ...                10\n",
              "8              QS  ...                28\n",
              "9             RKT  ...                18\n",
              "10           STPK  ...                13\n",
              "11           TWLO  ...                 1\n",
              "12            WPF  ...                45\n",
              "\n",
              "[13 rows x 3 columns]"
            ]
          },
          "metadata": {
            "tags": []
          },
          "execution_count": 234
        }
      ]
    }
  ]
}